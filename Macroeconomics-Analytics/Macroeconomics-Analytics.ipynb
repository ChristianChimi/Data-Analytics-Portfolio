{
 "cells": [
  {
   "cell_type": "code",
   "execution_count": 24,
   "metadata": {},
   "outputs": [],
   "source": [
    "import pandas as pd\n",
    "import matplotlib.pyplot as plt\n",
    "df_GDP=pd.read_csv(\"GDP.csv\")\n",
    "df_INF=pd.read_csv(\"INF.csv\")\n",
    "df_UNEMP=pd.read_csv(\"UNEMP.csv\")"
   ]
  },
  {
   "cell_type": "code",
   "execution_count": 25,
   "metadata": {},
   "outputs": [],
   "source": [
    "# First of all, as i want to perform a 30 year analysis on the 3 datasets (30 years is the best period talking about consistency in these dataset), i need to drop and clean \n",
    "\n",
    "df_GDP=df_GDP.drop(columns=['Country Code', 'Indicator Name', 'Indicator Code', 'Unnamed: 68'])\n",
    "df_GDP.set_index('Country Name', inplace=True)\n",
    "df_INF=df_INF.drop(columns=['Country Code', 'Indicator Name', 'Indicator Code', 'Unnamed: 68'])\n",
    "df_INF.set_index('Country Name', inplace=True)\n",
    "df_UNEMP=df_UNEMP.drop(columns=['Country Code', 'Indicator Name', 'Indicator Code', 'Unnamed: 68'])\n",
    "df_UNEMP.set_index('Country Name', inplace=True)"
   ]
  },
  {
   "cell_type": "code",
   "execution_count": 26,
   "metadata": {},
   "outputs": [],
   "source": [
    "df_GDP = df_GDP.loc[:, df_GDP.columns.astype(int) > 1993]\n",
    "df_INF = df_INF.loc[:, df_INF.columns.astype(int) > 1993]\n",
    "df_UNEMP = df_UNEMP.loc[:, df_UNEMP.columns.astype(int) > 1993]"
   ]
  },
  {
   "cell_type": "code",
   "execution_count": 27,
   "metadata": {},
   "outputs": [],
   "source": [
    "#Good! Now that we have the same raws and columns for every dataframe, we need to check what is still NaN and drop\n",
    "df_GDP.isnull().sum()\n",
    "df_GDP=df_GDP.dropna().copy()\n",
    "df_INF=df_INF.dropna().copy()"
   ]
  },
  {
   "cell_type": "code",
   "execution_count": 28,
   "metadata": {},
   "outputs": [],
   "source": [
    "#Now as we want to work on the same countries in every Df, we need to filter them by index\n",
    "common_index = df_GDP.index.intersection(df_UNEMP.index).intersection(df_INF.index)\n",
    "\n",
    "# DF filtering \n",
    "df_GDP_filtered = df_GDP.loc[common_index]\n",
    "df_UNEMP_filtered = df_UNEMP.loc[common_index]\n",
    "df_INF_filtered = df_INF.loc[common_index]"
   ]
  },
  {
   "cell_type": "code",
   "execution_count": 29,
   "metadata": {},
   "outputs": [
    {
     "data": {
      "text/plain": [
       "np.float64(-0.5710719084072342)"
      ]
     },
     "execution_count": 29,
     "metadata": {},
     "output_type": "execute_result"
    },
    {
     "data": {
      "image/png": "[encoded data removed]",
      "text/plain": [
       "<Figure size 640x480 with 1 Axes>"
      ]
     },
     "metadata": {},
     "output_type": "display_data"
    }
   ],
   "source": [
    "# Checking the Phillip's Curve!\n",
    "plt.scatter(df_UNEMP_filtered.loc['Canada'], df_INF_filtered.loc['Canada'])\n",
    "df_UNEMP_filtered.loc['Canada'].corr(df_INF_filtered.loc['Canada'])\n",
    "\n",
    "#The result is pretty good: there is a moderate negative correlation between inflation and unemployment in Canada."
   ]
  },
  {
   "cell_type": "code",
   "execution_count": 30,
   "metadata": {},
   "outputs": [
    {
     "data": {
      "text/plain": [
       "np.float64(-0.23450834263887863)"
      ]
     },
     "execution_count": 30,
     "metadata": {},
     "output_type": "execute_result"
    },
    {
     "data": {
      "image/png": "[encoded data removed]",
      "text/plain": [
       "<Figure size 640x480 with 1 Axes>"
      ]
     },
     "metadata": {},
     "output_type": "display_data"
    }
   ],
   "source": [
    "#And for Italy? There is a weaker correlation. We can explain the difference lookting at the italian labour market, that is less dynamic  \n",
    "\n",
    "plt.scatter(df_UNEMP_filtered.loc['Italy'], df_INF_filtered.loc['Italy'])\n",
    "df_UNEMP_filtered.loc['Italy'].corr(df_INF_filtered.loc['Italy'])"
   ]
  },
  {
   "cell_type": "code",
   "execution_count": null,
   "metadata": {},
   "outputs": [],
   "source": []
  }
 ],
 "metadata": {
  "kernelspec": {
   "display_name": "Python 3",
   "language": "python",
   "name": "python3"
  },
  "language_info": {
   "codemirror_mode": {
    "name": "ipython",
    "version": 3
   },
   "file_extension": ".py",
   "mimetype": "text/x-python",
   "name": "python",
   "nbconvert_exporter": "python",
   "pygments_lexer": "ipython3",
   "version": "3.12.9"
  }
 },
 "nbformat": 4,
 "nbformat_minor": 2
}
